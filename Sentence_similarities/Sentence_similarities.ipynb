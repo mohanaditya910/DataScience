{
  "nbformat": 4,
  "nbformat_minor": 0,
  "metadata": {
    "colab": {
      "name": "feb-18.ipynb",
      "provenance": [],
      "collapsed_sections": [
        "9vcDTpPb5dOF"
      ],
      "authorship_tag": "ABX9TyMR/eqnMi5MwoxDZnIUYtxq",
      "include_colab_link": true
    },
    "kernelspec": {
      "name": "python3",
      "display_name": "Python 3"
    },
    "accelerator": "GPU"
  },
  "cells": [
    {
      "cell_type": "markdown",
      "metadata": {
        "id": "view-in-github",
        "colab_type": "text"
      },
      "source": [
        "<a href=\"https://colab.research.google.com/github/mohanaditya910/SalesKen.ai-data_scientist/blob/master/Sentence_similarities/Sentence_similarities.ipynb\" target=\"_parent\"><img src=\"https://colab.research.google.com/assets/colab-badge.svg\" alt=\"Open In Colab\"/></a>"
      ]
    },
    {
      "cell_type": "code",
      "metadata": {
        "id": "ZSWmR_nlHalk",
        "colab_type": "code",
        "colab": {}
      },
      "source": [
        "\n",
        "import warnings\n",
        "warnings.filterwarnings('ignore')\n"
      ],
      "execution_count": 0,
      "outputs": []
    },
    {
      "cell_type": "code",
      "metadata": {
        "id": "o87BhvwwHlcL",
        "colab_type": "code",
        "colab": {}
      },
      "source": [
        "\n",
        "from gensim.models.word2vec import Word2Vec\n",
        "import gensim.downloader as api"
      ],
      "execution_count": 0,
      "outputs": []
    },
    {
      "cell_type": "code",
      "metadata": {
        "id": "G34_GB6DH1D-",
        "colab_type": "code",
        "colab": {}
      },
      "source": [
        "# download the model and return as object ready for use\n",
        "model_glove_twitter = api.load(\"glove-twitter-25\")"
      ],
      "execution_count": 0,
      "outputs": []
    },
    {
      "cell_type": "code",
      "metadata": {
        "id": "mgeoBQItH1r6",
        "colab_type": "code",
        "outputId": "532f3449-87fa-4567-b46c-ccf174043e89",
        "colab": {
          "base_uri": "https://localhost:8080/",
          "height": 191
        }
      },
      "source": [
        "model_glove_twitter.wv.most_similar(\"baseball\",topn=10)\n"
      ],
      "execution_count": 89,
      "outputs": [
        {
          "output_type": "execute_result",
          "data": {
            "text/plain": [
              "[('soccer', 0.9686072468757629),\n",
              " ('basketball', 0.9656766057014465),\n",
              " ('football', 0.9512435793876648),\n",
              " ('softball', 0.9471019506454468),\n",
              " ('championship', 0.9322695136070251),\n",
              " ('winning', 0.9318141341209412),\n",
              " ('lacrosse', 0.9305177927017212),\n",
              " ('volleyball', 0.9303966760635376),\n",
              " ('boxing', 0.9276558756828308),\n",
              " ('wrestling', 0.9187266230583191)]"
            ]
          },
          "metadata": {
            "tags": []
          },
          "execution_count": 89
        }
      ]
    },
    {
      "cell_type": "code",
      "metadata": {
        "id": "ygaeepcsJIrt",
        "colab_type": "code",
        "outputId": "48bc3dc0-95cd-4eab-9feb-c1c8b2a49b81",
        "colab": {
          "base_uri": "https://localhost:8080/",
          "height": 34
        }
      },
      "source": [
        "model_glove_twitter.wv.similarity(w1=\"baseball\",w2=\"cricket\")"
      ],
      "execution_count": 90,
      "outputs": [
        {
          "output_type": "execute_result",
          "data": {
            "text/plain": [
              "0.8357549"
            ]
          },
          "metadata": {
            "tags": []
          },
          "execution_count": 90
        }
      ]
    },
    {
      "cell_type": "code",
      "metadata": {
        "id": "CiybMD_xJ-VD",
        "colab_type": "code",
        "outputId": "ee249a2f-9942-433e-f142-bdffc8327987",
        "colab": {
          "base_uri": "https://localhost:8080/",
          "height": 72
        }
      },
      "source": [
        "from google.colab import drive\n",
        "drive.mount ('/content/drive')\n",
        "%cd /content/drive/My\\ Drive/SaleskenProblemSolving-master"
      ],
      "execution_count": 91,
      "outputs": [
        {
          "output_type": "stream",
          "text": [
            "Drive already mounted at /content/drive; to attempt to forcibly remount, call drive.mount(\"/content/drive\", force_remount=True).\n",
            "/content/drive/My Drive/SaleskenProblemSolving-master\n"
          ],
          "name": "stdout"
        }
      ]
    },
    {
      "cell_type": "code",
      "metadata": {
        "id": "0toEf8ZfLTXR",
        "colab_type": "code",
        "colab": {}
      },
      "source": [
        "import pandas as pd"
      ],
      "execution_count": 0,
      "outputs": []
    },
    {
      "cell_type": "code",
      "metadata": {
        "id": "e0M1eQXxK9tY",
        "colab_type": "code",
        "colab": {}
      },
      "source": [
        "df=pd.read_csv(\"list_of_sentences\",header=None,)"
      ],
      "execution_count": 0,
      "outputs": []
    },
    {
      "cell_type": "code",
      "metadata": {
        "id": "8hKD55-XVMBj",
        "colab_type": "code",
        "colab": {}
      },
      "source": [
        "corpus=[]\n",
        "for i in range(len(df)):\n",
        "  corpus.append(df.iloc[i][0])"
      ],
      "execution_count": 0,
      "outputs": []
    },
    {
      "cell_type": "code",
      "metadata": {
        "id": "NsRuZFIOVT9I",
        "colab_type": "code",
        "outputId": "05548885-27f0-4377-a63a-82384403afaf",
        "colab": {
          "base_uri": "https://localhost:8080/",
          "height": 243
        }
      },
      "source": [
        "corpus"
      ],
      "execution_count": 95,
      "outputs": [
        {
          "output_type": "execute_result",
          "data": {
            "text/plain": [
              "['good morning',\n",
              " 'how are you doing ?',\n",
              " 'the weather is awesome today',\n",
              " 'samsung',\n",
              " 'good afternoon',\n",
              " 'baseball is played in the USA',\n",
              " 'there is a thunderstorm ',\n",
              " 'are you doing good ?',\n",
              " 'The polar regions are melting\"',\n",
              " 'apple',\n",
              " 'nokia',\n",
              " 'cricket is a fun game',\n",
              " 'the climate change is a problem']"
            ]
          },
          "metadata": {
            "tags": []
          },
          "execution_count": 95
        }
      ]
    },
    {
      "cell_type": "markdown",
      "metadata": {
        "id": "9vcDTpPb5dOF",
        "colab_type": "text"
      },
      "source": [
        "#new method"
      ]
    },
    {
      "cell_type": "code",
      "metadata": {
        "id": "j4TdrzTN54vm",
        "colab_type": "code",
        "colab": {}
      },
      "source": [
        "import numpy as np"
      ],
      "execution_count": 0,
      "outputs": []
    },
    {
      "cell_type": "code",
      "metadata": {
        "id": "L0gubvW05cEn",
        "colab_type": "code",
        "colab": {}
      },
      "source": [
        "def simple_average(sent):\n",
        "    sents_emd = []\n",
        "    for s in sent:\n",
        "        sent_emd = []\n",
        "        for w in s:\n",
        "            if w in model_glove_twitter:\n",
        "                sent_emd.append(model_glove_twitter[w])\n",
        "        sent_emd_ar = np.array(sent_emd)\n",
        "        sum_ = sent_emd_ar.sum(axis=0)\n",
        "        result = sum_/np.sqrt((sum_**2).sum())\n",
        "        sents_emd.append(result)\n",
        "    return sents_emd"
      ],
      "execution_count": 0,
      "outputs": []
    },
    {
      "cell_type": "code",
      "metadata": {
        "id": "nkptxEk39ZL_",
        "colab_type": "code",
        "outputId": "262eee10-3d6f-4985-c96a-029176ab8b0f",
        "colab": {
          "base_uri": "https://localhost:8080/",
          "height": 243
        }
      },
      "source": [
        "sentences=[]\n",
        "for i in range(len(df)):\n",
        "  sentences.append(df.iloc[i][0].split(\" \"))\n",
        "\n",
        "sentences"
      ],
      "execution_count": 98,
      "outputs": [
        {
          "output_type": "execute_result",
          "data": {
            "text/plain": [
              "[['good', 'morning'],\n",
              " ['how', 'are', 'you', 'doing', '?'],\n",
              " ['the', 'weather', 'is', 'awesome', 'today'],\n",
              " ['samsung'],\n",
              " ['good', 'afternoon'],\n",
              " ['baseball', 'is', 'played', 'in', 'the', 'USA'],\n",
              " ['there', 'is', 'a', 'thunderstorm', ''],\n",
              " ['are', 'you', 'doing', 'good', '?'],\n",
              " ['The', 'polar', 'regions', 'are', 'melting\"'],\n",
              " ['apple'],\n",
              " ['nokia'],\n",
              " ['cricket', 'is', 'a', 'fun', 'game'],\n",
              " ['the', 'climate', 'change', 'is', 'a', 'problem']]"
            ]
          },
          "metadata": {
            "tags": []
          },
          "execution_count": 98
        }
      ]
    },
    {
      "cell_type": "markdown",
      "metadata": {
        "id": "sWx9XTQ4-K-H",
        "colab_type": "text"
      },
      "source": [
        "#think about stop words.."
      ]
    },
    {
      "cell_type": "code",
      "metadata": {
        "id": "7sB2t10VBQv3",
        "colab_type": "code",
        "colab": {}
      },
      "source": [
        "from scipy.spatial.distance import cosine\n",
        "from scipy.sparse.linalg import svds\n"
      ],
      "execution_count": 0,
      "outputs": []
    },
    {
      "cell_type": "code",
      "metadata": {
        "id": "sKMx39vI5b7x",
        "colab_type": "code",
        "outputId": "fb1029ad-0fba-4642-962d-80502622a9fd",
        "colab": {
          "base_uri": "https://localhost:8080/",
          "height": 34
        }
      },
      "source": [
        "np.shape(model_glove_twitter.syn0)"
      ],
      "execution_count": 100,
      "outputs": [
        {
          "output_type": "execute_result",
          "data": {
            "text/plain": [
              "(1193514, 25)"
            ]
          },
          "metadata": {
            "tags": []
          },
          "execution_count": 100
        }
      ]
    },
    {
      "cell_type": "code",
      "metadata": {
        "id": "f5a46L9q7T_e",
        "colab_type": "code",
        "colab": {}
      },
      "source": [
        "def tf_idf(sent):\n",
        "    word_counter = {}\n",
        "    total_count = 0\n",
        "    no_of_sentences = 0\n",
        "    for s in sent:\n",
        "        for w in s:\n",
        "            if w in word_counter:\n",
        "                word_counter[w] = word_counter[w] + 1\n",
        "            else:\n",
        "                word_counter[w] = 1\n",
        "        total_count = total_count + len(s)\n",
        "        no_of_sentences = no_of_sentences +  1\n",
        "    sents_emd = []\n",
        "    for s in sent:\n",
        "        sent_emd = []\n",
        "        for word in s:\n",
        "            tf = word_counter[word]/float(len(s))\n",
        "            idf = np.log(no_of_sentences/float(1+ word_counter[word]))\n",
        "            try:\n",
        "                emd = tf*idf*model_glove_twitter[word]\n",
        "                sent_emd.append(emd)\n",
        "            except:\n",
        "                continue\n",
        "        sent_emd = np.array(sent_emd)\n",
        "        sum_ = sent_emd.sum(axis=0)\n",
        "        result = sum_/np.sqrt((sum_**2).sum())\n",
        "        sents_emd.append(result)\n",
        "    return sents_emd"
      ],
      "execution_count": 0,
      "outputs": []
    },
    {
      "cell_type": "code",
      "metadata": {
        "id": "hh6nqbGbDKLv",
        "colab_type": "code",
        "colab": {}
      },
      "source": [
        "def smooth_inverse_frequency(sent, a=0.001):\n",
        "    word_counter = {}\n",
        "    sentences = []\n",
        "    total_count = 0\n",
        "    no_of_sentences = 0\n",
        "    for s in sent:\n",
        "        for w in s:\n",
        "            if w in word_counter:\n",
        "                word_counter[w] = word_counter[w] + 1\n",
        "            else:\n",
        "                word_counter[w] = 1\n",
        "        total_count = total_count + len(s)\n",
        "        no_of_sentences = no_of_sentences + 1\n",
        "    sents_emd = []\n",
        "    for s in sent:\n",
        "        sent_emd = []\n",
        "        for word in s:\n",
        "            if word in model_glove_twitter:\n",
        "                emd = (a/(a + (word_counter[word]/total_count)))*model_glove_twitter[word]\n",
        "                sent_emd.append(emd)\n",
        "        sum_ = np.array(sent_emd).sum(axis=0)\n",
        "        sentence_emd = sum_/float(no_of_sentences)\n",
        "        sents_emd.append(sentence_emd)\n",
        "    [_, _, u]  = np.array(svds(sents_emd, k=1))\n",
        "    new_sents_emd = []\n",
        "    for s in sents_emd:\n",
        "        s = s - s.dot(u*u.transpose())\n",
        "        new_sents_emd.append(s)\n",
        "    return new_sents_emd"
      ],
      "execution_count": 0,
      "outputs": []
    },
    {
      "cell_type": "code",
      "metadata": {
        "id": "Na_kLzB4D3NW",
        "colab_type": "code",
        "colab": {}
      },
      "source": [
        "sifs= smooth_inverse_frequency(sentences, a=0.001)"
      ],
      "execution_count": 0,
      "outputs": []
    },
    {
      "cell_type": "code",
      "metadata": {
        "id": "nLfb74-30w5j",
        "colab_type": "code",
        "colab": {
          "base_uri": "https://localhost:8080/",
          "height": 1000
        },
        "outputId": "822f737d-f227-4682-f80c-352a53f40f2b"
      },
      "source": [
        "sifs\n"
      ],
      "execution_count": 104,
      "outputs": [
        {
          "output_type": "execute_result",
          "data": {
            "text/plain": [
              "[array([-0.00587434,  0.00327272,  0.00203476,  0.00282493,  0.00013173,\n",
              "         0.00054981,  0.00518015,  0.00323273, -0.00156172,  0.00202933,\n",
              "        -0.00325844,  0.00088348,  0.00166965,  0.00180771, -0.00025753,\n",
              "        -0.00357611,  0.00256909, -0.00378086, -0.00303112,  0.0004717 ,\n",
              "        -0.00033692, -0.0012289 , -0.00219863,  0.00482302,  0.00205984],\n",
              "       dtype=float32),\n",
              " array([ 0.00312952,  0.00143476,  0.00241708,  0.0035904 , -0.00027299,\n",
              "        -0.00132687,  0.00183525,  0.00227522, -0.00369812,  0.00205476,\n",
              "        -0.00223232, -0.00127715, -0.00143717, -0.00848624, -0.00484816,\n",
              "        -0.00211892, -0.00150672, -0.00344552,  0.00068861, -0.00406304,\n",
              "         0.00699367,  0.00120893, -0.0051396 ,  0.00632835, -0.00299611],\n",
              "       dtype=float32),\n",
              " array([-0.00703394, -0.00556758,  0.0005663 , -0.00521318,  0.00190506,\n",
              "         0.00261865,  0.00554574, -0.00236263, -0.00135373, -0.00028563,\n",
              "        -0.00201102,  0.00320638,  0.00325934,  0.00364899,  0.0023943 ,\n",
              "        -0.00198767,  0.00303515, -0.00161024, -0.0020737 ,  0.00237121,\n",
              "        -0.00146625, -0.00550169,  0.00020222,  0.00273663,  0.00186156],\n",
              "       dtype=float32),\n",
              " array([ 0.00466769,  0.00033348, -0.00079172, -0.00427291,  0.00178569,\n",
              "        -0.00138576, -0.00459836,  0.00365874,  0.00372665,  0.00090207,\n",
              "         0.00628405, -0.00114214, -0.00199309, -0.00522469, -0.00126849,\n",
              "         0.00020846,  0.00041431,  0.00136669,  0.00157001,  0.00184388,\n",
              "        -0.00403838, -0.00505802,  0.00123036, -0.00250504, -0.00308603],\n",
              "       dtype=float32),\n",
              " array([-0.00656353,  0.00236732,  0.00202937,  0.00076028,  0.00092612,\n",
              "         0.00066042,  0.00398127, -0.00127   , -0.00132267, -0.00067558,\n",
              "        -0.0031181 , -0.00012526,  0.00211152,  0.00352016,  0.00164963,\n",
              "        -0.00225607,  0.00248344, -0.002565  , -0.00370439,  0.00012651,\n",
              "        -0.00153678, -0.00254482, -0.00149552,  0.00369766,  0.0018367 ],\n",
              "       dtype=float32),\n",
              " array([ 0.00073382,  0.00113512,  0.00569586, -0.00521069, -0.00303156,\n",
              "        -0.00125553, -0.00687454,  0.00020133, -0.00282298, -0.00304809,\n",
              "         0.00648639,  0.00515874, -0.00089586,  0.00156278, -0.00053303,\n",
              "         0.00154552,  0.00024665,  0.00244663,  0.00021524,  0.00223665,\n",
              "        -0.00628088,  0.00738996,  0.00422083, -0.00843623,  0.00320737],\n",
              "       dtype=float32),\n",
              " array([-4.9016280e-03,  1.3154694e-03, -3.9955403e-04,  3.7503911e-03,\n",
              "        -2.5050901e-03, -3.0371826e-05,  1.9670166e-03, -2.4644667e-03,\n",
              "        -3.6436156e-04, -5.1242043e-04, -3.3719232e-04,  2.0641601e-05,\n",
              "         9.0155751e-04,  4.6329135e-03,  3.2705129e-03,  6.1042473e-04,\n",
              "         7.6468627e-04,  5.0025531e-03,  4.8046885e-04, -1.7911824e-03,\n",
              "         2.1104210e-03, -2.4640039e-03,  6.7293267e-03,  3.0753878e-04,\n",
              "        -1.4923078e-03], dtype=float32),\n",
              " array([ 5.6548300e-04,  1.6904917e-03,  2.3420402e-03,  2.4082153e-03,\n",
              "         3.3954275e-05,  1.6387319e-04,  1.7412854e-03,  3.6060191e-03,\n",
              "        -2.9607862e-03,  2.2449903e-03, -1.6946674e-03, -1.6900975e-03,\n",
              "        -7.8133866e-04, -5.3624241e-03, -2.7886592e-03, -1.5184009e-03,\n",
              "        -2.4196021e-03, -4.2548366e-03, -1.3158907e-03, -2.5199887e-03,\n",
              "         3.9637573e-03,  1.0888362e-03, -4.1708131e-03,  6.4587765e-03,\n",
              "        -6.8680383e-04], dtype=float32),\n",
              " array([-0.00254989, -0.00319183, -0.0018745 , -0.00135663, -0.00112077,\n",
              "         0.00251797, -0.00227339, -0.00719881,  0.00191962,  0.0008023 ,\n",
              "         0.00270347, -0.0071337 , -0.00107016,  0.00376643, -0.0003899 ,\n",
              "        -0.00069706,  0.00108909,  0.00090553,  0.01288621,  0.00214199,\n",
              "        -0.00024133, -0.00040546, -0.00079447, -0.00725925,  0.00207527],\n",
              "       dtype=float32),\n",
              " array([ 3.1291288e-03, -2.9176206e-04,  2.4256957e-04, -8.2292943e-05,\n",
              "         1.4004534e-03,  1.3990482e-04, -2.8855661e-03,  3.4827041e-05,\n",
              "         2.9789056e-03,  6.5662531e-04,  7.4399253e-03, -2.4213421e-03,\n",
              "        -2.0944122e-03, -4.9475199e-03, -1.3888890e-03, -7.1197510e-04,\n",
              "         1.6573840e-03,  2.1993313e-03,  1.3537358e-03,  1.1303592e-04,\n",
              "        -1.4023391e-03, -4.3012993e-03, -9.4505885e-05, -1.7739990e-03,\n",
              "        -2.3397911e-04], dtype=float32),\n",
              " array([ 0.00430185, -0.00044903,  0.00156851, -0.00326747,  0.00167619,\n",
              "        -0.00068067, -0.0031828 ,  0.00244505,  0.00447313,  0.00174973,\n",
              "         0.00512451, -0.00183334, -0.00173314, -0.00565903, -0.00063957,\n",
              "         0.00064599,  0.00114427,  0.00130625,  0.00171975,  0.00159452,\n",
              "        -0.00322262, -0.00439514,  0.00115378, -0.00213227, -0.0024563 ],\n",
              "       dtype=float32),\n",
              " array([ 0.00408886,  0.00114854,  0.00196734, -0.00676511, -0.00148682,\n",
              "         0.001031  , -0.00054586,  0.00348681,  0.00241122, -0.00213153,\n",
              "        -0.00061634, -0.00078563,  0.00161447,  0.00092507,  0.00260371,\n",
              "         0.00107923, -0.00130702, -0.00485204, -0.0030899 ,  0.00488175,\n",
              "        -0.00706458,  0.00264279,  0.0013411 , -0.00358183,  0.00088986],\n",
              "       dtype=float32),\n",
              " array([ 6.43898780e-03, -5.01319650e-04, -1.28767993e-02,  1.00839315e-02,\n",
              "         3.69717926e-03, -2.32764729e-03, -3.31561733e-03, -2.99175992e-03,\n",
              "         6.69694180e-03,  1.21931313e-03, -2.04991316e-03, -3.00632324e-03,\n",
              "        -2.91806459e-03,  1.08421198e-03, -3.29585746e-05,  4.39455314e-03,\n",
              "        -2.37454241e-03,  7.69702159e-03,  2.30557192e-03, -4.19401377e-03,\n",
              "         6.15161052e-03, -1.28784031e-03, -1.37719570e-03, -8.26062285e-04,\n",
              "        -3.39519838e-03], dtype=float32)]"
            ]
          },
          "metadata": {
            "tags": []
          },
          "execution_count": 104
        }
      ]
    },
    {
      "cell_type": "code",
      "metadata": {
        "id": "9HvUa5oPUXo_",
        "colab_type": "code",
        "outputId": "375fe7be-0a07-4294-d5c8-12fe0145cb03",
        "colab": {
          "base_uri": "https://localhost:8080/",
          "height": 34
        }
      },
      "source": [
        "cosine(sifs[10],sifs[9])"
      ],
      "execution_count": 105,
      "outputs": [
        {
          "output_type": "execute_result",
          "data": {
            "text/plain": [
              "0.1273205280303955"
            ]
          },
          "metadata": {
            "tags": []
          },
          "execution_count": 105
        }
      ]
    },
    {
      "cell_type": "code",
      "metadata": {
        "id": "N1mBp_74i1A8",
        "colab_type": "code",
        "colab": {}
      },
      "source": [
        "##\n",
        "threshold = 0.2\n",
        "\n",
        "similarity_scores=10*np.ones((len(sifs),len(sifs)))\n",
        "\n",
        "for i in range(len(sifs)):\n",
        "  for j in range(i+1,len(sifs)):\n",
        "    similarity_scores[i][j]=cosine(sifs[i],sifs[j])\n",
        "\n",
        "x = np.array(similarity_scores)\n",
        "\n",
        "update_list = [] #main_list\n",
        "\n"
      ],
      "execution_count": 0,
      "outputs": []
    },
    {
      "cell_type": "code",
      "metadata": {
        "id": "z81el6GXJTwW",
        "colab_type": "code",
        "colab": {
          "base_uri": "https://localhost:8080/",
          "height": 243
        },
        "outputId": "7c1a7af7-52c2-442b-8cf1-1f61bf6e4fa8"
      },
      "source": [
        "count=0\n",
        "while (count < len(sifs)):\n",
        "  ##IDENTIFYING THE SENTENCES IN THE GROUP...\n",
        "\n",
        "  grp = []\n",
        "  i,j = np.unravel_index(np.argmin(x, axis=None), x.shape)\n",
        "  print (\"i,j:{},{}\".format(i,j))\n",
        "  grp.append(i)\n",
        "  grp.append(j)\n",
        "\n",
        "  # if there is any value in the ith row which is less than the threshold then grab and append to the list..\n",
        "\n",
        "\n",
        "  for j1 in range(i+1,len(x)):\n",
        "    if x[i][j1] <= np.amin(x) + 0.2:\n",
        "      if j1 not in grp:\n",
        "        print (\"j1:{}\".format(j1))\n",
        "        grp.append(j1)\n",
        "\n",
        "  for i1 in range(0,j):\n",
        "    if x[i1][j] <= np.amin(x) + 0.2:\n",
        "      if i1 not in grp:\n",
        "        print (\"i1:{}\".format(i1))\n",
        "        grp.append(i1)\n",
        "\n",
        "  #grp\n",
        "  update_list.append(grp)\n",
        "  count = count+len(grp)\n",
        "\n",
        "  '''\n",
        "\n",
        "  ##REMOVING THE COLUMNS AND ROWS OF THE SENTENCES IN THE GROUP..\n",
        "  x = np.delete(x,grp,0) #axis=0 rows\n",
        "  x = np.delete(x,grp,1) #axis=1 columns\n",
        "\n",
        "  '''\n",
        "  for l in grp:\n",
        "    x[l] = 10.0\n",
        "    x[:,l] = 10.0\n",
        "\n",
        "\n",
        "\n",
        "  print (\"shape_of_x:{}\".format(x.shape))"
      ],
      "execution_count": 107,
      "outputs": [
        {
          "output_type": "stream",
          "text": [
            "i,j:3,10\n",
            "j1:9\n",
            "shape_of_x:(13, 13)\n",
            "i,j:1,7\n",
            "shape_of_x:(13, 13)\n",
            "i,j:0,4\n",
            "i1:2\n",
            "shape_of_x:(13, 13)\n",
            "i,j:5,11\n",
            "shape_of_x:(13, 13)\n",
            "i,j:6,12\n",
            "j1:8\n",
            "shape_of_x:(13, 13)\n"
          ],
          "name": "stdout"
        }
      ]
    },
    {
      "cell_type": "code",
      "metadata": {
        "id": "N_k851rBGP9-",
        "colab_type": "code",
        "colab": {
          "base_uri": "https://localhost:8080/",
          "height": 34
        },
        "outputId": "44b085aa-a2e5-47aa-98c5-6849114fcd98"
      },
      "source": [
        "update_list"
      ],
      "execution_count": 108,
      "outputs": [
        {
          "output_type": "execute_result",
          "data": {
            "text/plain": [
              "[[3, 10, 9], [1, 7], [0, 4, 2], [5, 11], [6, 12, 8]]"
            ]
          },
          "metadata": {
            "tags": []
          },
          "execution_count": 108
        }
      ]
    },
    {
      "cell_type": "code",
      "metadata": {
        "id": "3Wk4V3SKSZrd",
        "colab_type": "code",
        "colab": {}
      },
      "source": [
        "r_final = []\n",
        "for grp in update_list:\n",
        "  r_grp = []\n",
        "  for ind in grp:\n",
        "    r_grp.append(corpus[ind])\n",
        "\n",
        "  r_final.append(r_grp)\n",
        "\n"
      ],
      "execution_count": 0,
      "outputs": []
    },
    {
      "cell_type": "code",
      "metadata": {
        "id": "U_vOWOE2Ta-O",
        "colab_type": "code",
        "colab": {
          "base_uri": "https://localhost:8080/",
          "height": 139
        },
        "outputId": "7f6eac91-0de3-4ec6-9297-66d6b076f31a"
      },
      "source": [
        "r_final"
      ],
      "execution_count": 110,
      "outputs": [
        {
          "output_type": "execute_result",
          "data": {
            "text/plain": [
              "[['samsung', 'nokia', 'apple'],\n",
              " ['how are you doing ?', 'are you doing good ?'],\n",
              " ['good morning', 'good afternoon', 'the weather is awesome today'],\n",
              " ['baseball is played in the USA', 'cricket is a fun game'],\n",
              " ['there is a thunderstorm ',\n",
              "  'the climate change is a problem',\n",
              "  'The polar regions are melting\"']]"
            ]
          },
          "metadata": {
            "tags": []
          },
          "execution_count": 110
        }
      ]
    }
  ]
}