{
  "nbformat": 4,
  "nbformat_minor": 0,
  "metadata": {
    "colab": {
      "name": "Untitled4.ipynb",
      "provenance": [],
      "authorship_tag": "ABX9TyMcF+ATJM1sTRJn/BBsxC5/",
      "include_colab_link": true
    },
    "kernelspec": {
      "name": "python3",
      "display_name": "Python 3"
    }
  },
  "cells": [
    {
      "cell_type": "markdown",
      "metadata": {
        "id": "view-in-github",
        "colab_type": "text"
      },
      "source": [
        "<a href=\"https://colab.research.google.com/github/mohanaditya910/SalesKen.ai-data_scientist/blob/master/part2/part2.ipynb\" target=\"_parent\"><img src=\"https://colab.research.google.com/assets/colab-badge.svg\" alt=\"Open In Colab\"/></a>"
      ]
    },
    {
      "cell_type": "code",
      "metadata": {
        "id": "e24miA7cv5ZB",
        "colab_type": "code",
        "colab": {}
      },
      "source": [
        "\n",
        "\n",
        "import re\n",
        "import string\n",
        "import pandas as pd\n",
        "from functools import reduce\n",
        "from math import log"
      ],
      "execution_count": 0,
      "outputs": []
    },
    {
      "cell_type": "code",
      "metadata": {
        "id": "uM_5l0w0wmH3",
        "colab_type": "code",
        "outputId": "82dae445-b28c-43c7-fb5a-10c781839987",
        "colab": {
          "base_uri": "https://localhost:8080/",
          "height": 34
        }
      },
      "source": [
        "from google.colab import drive\n",
        "drive.mount ('/content/drive')\n",
        "\n"
      ],
      "execution_count": 0,
      "outputs": [
        {
          "output_type": "stream",
          "text": [
            "Drive already mounted at /content/drive; to attempt to forcibly remount, call drive.mount(\"/content/drive\", force_remount=True).\n"
          ],
          "name": "stdout"
        }
      ]
    },
    {
      "cell_type": "code",
      "metadata": {
        "id": "1917pto_w-HX",
        "colab_type": "code",
        "outputId": "244dfd3c-cd32-4bbf-cc32-00a48b434620",
        "colab": {
          "base_uri": "https://localhost:8080/",
          "height": 34
        }
      },
      "source": [
        "%cd /content/drive/My\\ Drive/SaleskenProblemSolving-master\n"
      ],
      "execution_count": 0,
      "outputs": [
        {
          "output_type": "stream",
          "text": [
            "/content/drive/My Drive/SaleskenProblemSolving-master\n"
          ],
          "name": "stdout"
        }
      ]
    },
    {
      "cell_type": "code",
      "metadata": {
        "id": "vsiAmC4qzDNk",
        "colab_type": "code",
        "outputId": "8cfce666-a998-4215-b9f0-fff3fba869ef",
        "colab": {
          "base_uri": "https://localhost:8080/",
          "height": 34
        }
      },
      "source": [
        "%ls\n"
      ],
      "execution_count": 0,
      "outputs": [
        {
          "output_type": "stream",
          "text": [
            "Correct_cities.csv  list_of_sentences  Misspelt_cities.csv  README.md\n"
          ],
          "name": "stdout"
        }
      ]
    },
    {
      "cell_type": "code",
      "metadata": {
        "id": "kmh1sKGAxhOC",
        "colab_type": "code",
        "colab": {}
      },
      "source": [
        "from sklearn.feature_extraction.text import TfidfVectorizer\n",
        "from sklearn.cluster import KMeans"
      ],
      "execution_count": 0,
      "outputs": []
    },
    {
      "cell_type": "code",
      "metadata": {
        "id": "n7-msnDmy7yI",
        "colab_type": "code",
        "colab": {}
      },
      "source": [
        "df=pd.read_csv(\"list_of_sentences\",header=None,)\n",
        "#df.reanme(columns='')"
      ],
      "execution_count": 0,
      "outputs": []
    },
    {
      "cell_type": "code",
      "metadata": {
        "id": "Rvt59f_kzQOO",
        "colab_type": "code",
        "outputId": "20aae9e6-1ee7-4097-8f79-f152a8579e45",
        "colab": {
          "base_uri": "https://localhost:8080/",
          "height": 457
        }
      },
      "source": [
        "df"
      ],
      "execution_count": 0,
      "outputs": [
        {
          "output_type": "execute_result",
          "data": {
            "text/html": [
              "<div>\n",
              "<style scoped>\n",
              "    .dataframe tbody tr th:only-of-type {\n",
              "        vertical-align: middle;\n",
              "    }\n",
              "\n",
              "    .dataframe tbody tr th {\n",
              "        vertical-align: top;\n",
              "    }\n",
              "\n",
              "    .dataframe thead th {\n",
              "        text-align: right;\n",
              "    }\n",
              "</style>\n",
              "<table border=\"1\" class=\"dataframe\">\n",
              "  <thead>\n",
              "    <tr style=\"text-align: right;\">\n",
              "      <th></th>\n",
              "      <th>0</th>\n",
              "    </tr>\n",
              "  </thead>\n",
              "  <tbody>\n",
              "    <tr>\n",
              "      <th>0</th>\n",
              "      <td>good morning</td>\n",
              "    </tr>\n",
              "    <tr>\n",
              "      <th>1</th>\n",
              "      <td>how are you doing ?</td>\n",
              "    </tr>\n",
              "    <tr>\n",
              "      <th>2</th>\n",
              "      <td>the weather is awesome today</td>\n",
              "    </tr>\n",
              "    <tr>\n",
              "      <th>3</th>\n",
              "      <td>samsung</td>\n",
              "    </tr>\n",
              "    <tr>\n",
              "      <th>4</th>\n",
              "      <td>good afternoon</td>\n",
              "    </tr>\n",
              "    <tr>\n",
              "      <th>5</th>\n",
              "      <td>baseball is played in the USA</td>\n",
              "    </tr>\n",
              "    <tr>\n",
              "      <th>6</th>\n",
              "      <td>there is a thunderstorm</td>\n",
              "    </tr>\n",
              "    <tr>\n",
              "      <th>7</th>\n",
              "      <td>are you doing good ?</td>\n",
              "    </tr>\n",
              "    <tr>\n",
              "      <th>8</th>\n",
              "      <td>The polar regions are melting\"</td>\n",
              "    </tr>\n",
              "    <tr>\n",
              "      <th>9</th>\n",
              "      <td>apple</td>\n",
              "    </tr>\n",
              "    <tr>\n",
              "      <th>10</th>\n",
              "      <td>nokia</td>\n",
              "    </tr>\n",
              "    <tr>\n",
              "      <th>11</th>\n",
              "      <td>cricket is a fun game</td>\n",
              "    </tr>\n",
              "    <tr>\n",
              "      <th>12</th>\n",
              "      <td>the climate change is a problem</td>\n",
              "    </tr>\n",
              "  </tbody>\n",
              "</table>\n",
              "</div>"
            ],
            "text/plain": [
              "                                  0\n",
              "0                      good morning\n",
              "1               how are you doing ?\n",
              "2      the weather is awesome today\n",
              "3                           samsung\n",
              "4                    good afternoon\n",
              "5     baseball is played in the USA\n",
              "6          there is a thunderstorm \n",
              "7              are you doing good ?\n",
              "8    The polar regions are melting\"\n",
              "9                             apple\n",
              "10                            nokia\n",
              "11            cricket is a fun game\n",
              "12  the climate change is a problem"
            ]
          },
          "metadata": {
            "tags": []
          },
          "execution_count": 64
        }
      ]
    },
    {
      "cell_type": "code",
      "metadata": {
        "id": "ufTFvFf61FxW",
        "colab_type": "code",
        "outputId": "2cdbf6ef-36ae-49fd-acce-6b0ffa33c6bd",
        "colab": {
          "base_uri": "https://localhost:8080/",
          "height": 34
        }
      },
      "source": [
        "len(df)"
      ],
      "execution_count": 0,
      "outputs": [
        {
          "output_type": "execute_result",
          "data": {
            "text/plain": [
              "13"
            ]
          },
          "metadata": {
            "tags": []
          },
          "execution_count": 65
        }
      ]
    },
    {
      "cell_type": "code",
      "metadata": {
        "id": "fzgBPEjf2pec",
        "colab_type": "code",
        "colab": {}
      },
      "source": [
        "corpus=[]\n",
        "for i in range(len(df)):\n",
        "  corpus.append(df.iloc[i][0])"
      ],
      "execution_count": 0,
      "outputs": []
    },
    {
      "cell_type": "code",
      "metadata": {
        "id": "HtM98OcK2zPq",
        "colab_type": "code",
        "outputId": "1fc0a0fb-c33b-41f2-fbd1-6086a732211c",
        "colab": {
          "base_uri": "https://localhost:8080/",
          "height": 243
        }
      },
      "source": [
        "corpus"
      ],
      "execution_count": 0,
      "outputs": [
        {
          "output_type": "execute_result",
          "data": {
            "text/plain": [
              "['good morning',\n",
              " 'how are you doing ?',\n",
              " 'the weather is awesome today',\n",
              " 'samsung',\n",
              " 'good afternoon',\n",
              " 'baseball is played in the USA',\n",
              " 'there is a thunderstorm ',\n",
              " 'are you doing good ?',\n",
              " 'The polar regions are melting\"',\n",
              " 'apple',\n",
              " 'nokia',\n",
              " 'cricket is a fun game',\n",
              " 'the climate change is a problem']"
            ]
          },
          "metadata": {
            "tags": []
          },
          "execution_count": 67
        }
      ]
    },
    {
      "cell_type": "code",
      "metadata": {
        "id": "UMBtOmuI_EFy",
        "colab_type": "code",
        "outputId": "626fe423-74af-40a0-87ea-8085202cf9ae",
        "colab": {
          "base_uri": "https://localhost:8080/",
          "height": 69
        }
      },
      "source": [
        "import nltk\n",
        "nltk.download('stopwords')"
      ],
      "execution_count": 0,
      "outputs": [
        {
          "output_type": "stream",
          "text": [
            "[nltk_data] Downloading package stopwords to /root/nltk_data...\n",
            "[nltk_data]   Package stopwords is already up-to-date!\n"
          ],
          "name": "stdout"
        },
        {
          "output_type": "execute_result",
          "data": {
            "text/plain": [
              "True"
            ]
          },
          "metadata": {
            "tags": []
          },
          "execution_count": 68
        }
      ]
    },
    {
      "cell_type": "code",
      "metadata": {
        "id": "Kd4hitdH9_zD",
        "colab_type": "code",
        "outputId": "82a597df-7c1d-43fb-f1b3-1ddd607965d2",
        "colab": {
          "base_uri": "https://localhost:8080/",
          "height": 243
        }
      },
      "source": [
        "###########removing stop words...\n",
        "from nltk.corpus import stopwords\n",
        "cachedStopWords = stopwords.words(\"english\")\n",
        "\n",
        "stop_words = set(stopwords.words('english'))\n",
        "'''\n",
        "def testFuncNew(text):\n",
        "  #text = 'hello bye the the hi'\n",
        "  text = ' '.join([word for word in text.split(\" \") if word not in cachedStopWords])\n",
        "'''\n",
        "def testFuncNew(text):\n",
        "  #text = 'hello bye the the hi'\n",
        "  #print (text.split(\" \"))\n",
        "  text = ' '.join([word for word in text.split(\" \") if word not in stop_words])\n",
        "  return text\n",
        "\n",
        "\n",
        "reform_corpus=[]\n",
        "for text in corpus:\n",
        "  #print (testFuncNew(text))\n",
        "  reform_corpus.append(testFuncNew(text))\n",
        "reform_corpus\n",
        "\n",
        "\n"
      ],
      "execution_count": 0,
      "outputs": [
        {
          "output_type": "execute_result",
          "data": {
            "text/plain": [
              "['good morning',\n",
              " '?',\n",
              " 'weather awesome today',\n",
              " 'samsung',\n",
              " 'good afternoon',\n",
              " 'baseball played USA',\n",
              " 'thunderstorm ',\n",
              " 'good ?',\n",
              " 'The polar regions melting\"',\n",
              " 'apple',\n",
              " 'nokia',\n",
              " 'cricket fun game',\n",
              " 'climate change problem']"
            ]
          },
          "metadata": {
            "tags": []
          },
          "execution_count": 69
        }
      ]
    },
    {
      "cell_type": "code",
      "metadata": {
        "id": "YMKNR9EI3a29",
        "colab_type": "code",
        "colab": {}
      },
      "source": [
        "def preprocessing(line):\n",
        "    line = line.lower()\n",
        "    line = re.sub(r\"[{}]\".format(string.punctuation), \" \", line)\n",
        "    return line"
      ],
      "execution_count": 0,
      "outputs": []
    },
    {
      "cell_type": "code",
      "metadata": {
        "id": "pXs2nlii33Q_",
        "colab_type": "code",
        "colab": {}
      },
      "source": [
        "tfidf_vectorizer = TfidfVectorizer(preprocessor=preprocessing)\n",
        "tfidf = tfidf_vectorizer.fit_transform(corpus)"
      ],
      "execution_count": 0,
      "outputs": []
    },
    {
      "cell_type": "code",
      "metadata": {
        "id": "QhFKfcdugWqc",
        "colab_type": "code",
        "outputId": "eeae84fd-c252-4c86-9b9f-d68dad674407",
        "colab": {
          "base_uri": "https://localhost:8080/",
          "height": 764
        }
      },
      "source": [
        "print (tfidf)"
      ],
      "execution_count": 0,
      "outputs": [
        {
          "output_type": "stream",
          "text": [
            "  (0, 16)\t0.7943567727279524\n",
            "  (0, 11)\t0.6074514940480699\n",
            "  (1, 8)\t0.49200688757309974\n",
            "  (1, 29)\t0.49200688757309974\n",
            "  (1, 2)\t0.43629162556341305\n",
            "  (1, 12)\t0.570533138936291\n",
            "  (2, 26)\t0.508467355758347\n",
            "  (2, 3)\t0.508467355758347\n",
            "  (2, 14)\t0.3188456574856306\n",
            "  (2, 28)\t0.508467355758347\n",
            "  (2, 23)\t0.3503145601982594\n",
            "  (3, 22)\t1.0\n",
            "  (4, 0)\t0.7943567727279524\n",
            "  (4, 11)\t0.6074514940480699\n",
            "  (5, 27)\t0.45324156231303064\n",
            "  (5, 13)\t0.45324156231303064\n",
            "  (5, 18)\t0.45324156231303064\n",
            "  (5, 4)\t0.45324156231303064\n",
            "  (5, 14)\t0.28421510702487285\n",
            "  (5, 23)\t0.31226610079708117\n",
            "  (6, 25)\t0.6464110157590537\n",
            "  (6, 24)\t0.6464110157590537\n",
            "  (6, 14)\t0.40534626852938604\n",
            "  (7, 8)\t0.5290573057385657\n",
            "  (7, 29)\t0.5290573057385657\n",
            "  (7, 2)\t0.46914642409875607\n",
            "  (7, 11)\t0.46914642409875607\n",
            "  (8, 15)\t0.49632543216610014\n",
            "  (8, 21)\t0.49632543216610014\n",
            "  (8, 19)\t0.49632543216610014\n",
            "  (8, 23)\t0.34194923924892334\n",
            "  (8, 2)\t0.37954435041571133\n",
            "  (9, 1)\t1.0\n",
            "  (10, 17)\t1.0\n",
            "  (11, 10)\t0.5428677390993116\n",
            "  (11, 9)\t0.5428677390993116\n",
            "  (11, 7)\t0.5428677390993116\n",
            "  (11, 14)\t0.3404171757353104\n",
            "  (12, 20)\t0.508467355758347\n",
            "  (12, 5)\t0.508467355758347\n",
            "  (12, 6)\t0.508467355758347\n",
            "  (12, 14)\t0.3188456574856306\n",
            "  (12, 23)\t0.3503145601982594\n"
          ],
          "name": "stdout"
        }
      ]
    },
    {
      "cell_type": "code",
      "metadata": {
        "id": "_6avbpv736xk",
        "colab_type": "code",
        "colab": {}
      },
      "source": [
        "kmeans = KMeans(n_clusters=4).fit(tfidf)"
      ],
      "execution_count": 0,
      "outputs": []
    },
    {
      "cell_type": "code",
      "metadata": {
        "id": "HASkbN1z4CBA",
        "colab_type": "code",
        "outputId": "fc4e30a1-8ccd-400b-8244-0a121c44dd9c",
        "colab": {
          "base_uri": "https://localhost:8080/",
          "height": 34
        }
      },
      "source": [
        "lines_for_predicting = corpus# [\"motorola\",\"good evening\"]\n",
        "\n",
        "predicted=kmeans.predict(tfidf_vectorizer.transform(lines_for_predicting))\n",
        "print (predicted)"
      ],
      "execution_count": 0,
      "outputs": [
        {
          "output_type": "stream",
          "text": [
            "[0 3 1 0 0 1 1 3 2 0 0 1 1]\n"
          ],
          "name": "stdout"
        }
      ]
    },
    {
      "cell_type": "code",
      "metadata": {
        "id": "GYEa2E_i1H54",
        "colab_type": "code",
        "outputId": "17109844-37ab-4631-ded9-b4e7953a90ae",
        "colab": {
          "base_uri": "https://localhost:8080/",
          "height": 34
        }
      },
      "source": [
        "# i percieved 4 classes and truth labels..\n",
        "#these labels are for this run only..if we run it will change..\n",
        "import numpy as np\n",
        "import sklearn\n",
        "truth_labels = np.array([3,3,1,0,3,2,1,3,1,0,0,2,1]).astype(np.int32)\n",
        "\n",
        "acc = sklearn.metrics.accuracy_score(truth_labels,predicted)\n",
        "print(\"accuracy: {}\".format(acc))\n"
      ],
      "execution_count": 0,
      "outputs": [
        {
          "output_type": "stream",
          "text": [
            "accuracy: 0.6153846153846154\n"
          ],
          "name": "stdout"
        }
      ]
    },
    {
      "cell_type": "code",
      "metadata": {
        "id": "t7_CVN5y4ndk",
        "colab_type": "code",
        "outputId": "a3ab99a6-a465-4e8c-ae5a-0a35df22af59",
        "colab": {
          "base_uri": "https://localhost:8080/",
          "height": 302
        }
      },
      "source": [
        "import seaborn as sns; sns.set() \n",
        "import matplotlib.pyplot as plt\n",
        "%matplotlib inline\n",
        "from sklearn.metrics import confusion_matrix\n",
        "mat = confusion_matrix(predicted, truth_labels)\n",
        "sns.heatmap(mat.T, square=True, annot=True, fmt='d', cbar=False,\n",
        "            #xticklabels=,\n",
        "            #yticklabels=\n",
        "            )\n",
        "plt.xlabel('true label')\n",
        "plt.ylabel('predicted label')\n",
        "\n",
        "\n",
        "#plesantaries,climate,mobiles,games,"
      ],
      "execution_count": 0,
      "outputs": [
        {
          "output_type": "execute_result",
          "data": {
            "text/plain": [
              "Text(89.18, 0.5, 'predicted label')"
            ]
          },
          "metadata": {
            "tags": []
          },
          "execution_count": 90
        },
        {
          "output_type": "display_data",
          "data": {
            "image/png": "[encoded data removed]",
            "text/plain": [
              "<Figure size 432x288 with 1 Axes>"
            ]
          },
          "metadata": {
            "tags": []
          }
        }
      ]
    },
    {
      "cell_type": "markdown",
      "metadata": {
        "id": "OMjXnQSb7Y8Y",
        "colab_type": "text"
      },
      "source": [
        "trying other method.."
      ]
    },
    {
      "cell_type": "code",
      "metadata": {
        "id": "GOYC46dHXy-3",
        "colab_type": "code",
        "colab": {}
      },
      "source": [
        "import os.path\n",
        "from gensim import corpora\n",
        "from gensim.models import LsiModel\n",
        "from nltk.tokenize import RegexpTokenizer\n",
        "from nltk.corpus import stopwords\n",
        "from nltk.stem.porter import PorterStemmer\n",
        "from gensim.models.coherencemodel import CoherenceModel\n",
        "import matplotlib.pyplot as plt"
      ],
      "execution_count": 0,
      "outputs": []
    },
    {
      "cell_type": "code",
      "metadata": {
        "id": "5dUfenGiXztZ",
        "colab_type": "code",
        "colab": {}
      },
      "source": [
        "def load_data(path,file_name):\n",
        "    \"\"\"\n",
        "    Input  : path and file_name\n",
        "    Purpose: loading text file\n",
        "    Output : list of paragraphs/documents and\n",
        "             title(initial 100 words considred as title of document)\n",
        "    \"\"\"\n",
        "    documents_list = []\n",
        "    titles=[]\n",
        "\n",
        "    with open( os.path.join(path, file_name) ,\"r\") as fin:\n",
        "        for line in fin.readlines():\n",
        "            text = line.strip()\n",
        "            documents_list.append(text)\n",
        "    print(\"Total Number of Documents:\",len(documents_list))\n",
        "    titles.append( text[0:min(len(text),100)] )\n",
        "    return documents_list,titles    "
      ],
      "execution_count": 0,
      "outputs": []
    },
    {
      "cell_type": "code",
      "metadata": {
        "id": "aXASPpsaYBBH",
        "colab_type": "code",
        "colab": {}
      },
      "source": [
        "def preprocess_data(doc_set):\n",
        "    \"\"\"\n",
        "    Input  : docuemnt list\n",
        "    Purpose: preprocess text (tokenize, removing stopwords, and stemming)\n",
        "    Output : preprocessed text\n",
        "    \"\"\"\n",
        "    # initialize regex tokenizer\n",
        "    tokenizer = RegexpTokenizer(r'\\w+')\n",
        "    # create English stop words list\n",
        "    en_stop = set(stopwords.words('english'))\n",
        "    # Create p_stemmer of class PorterStemmer\n",
        "    p_stemmer = PorterStemmer()\n",
        "    # list for tokenized documents in loop\n",
        "    texts = []\n",
        "    # loop through document list\n",
        "    for i in doc_set:\n",
        "        # clean and tokenize document string\n",
        "        raw = i.lower()\n",
        "        tokens = tokenizer.tokenize(raw)\n",
        "        # remove stop words from tokens\n",
        "        stopped_tokens = [i for i in tokens if not i in en_stop]\n",
        "        # stem tokens\n",
        "        stemmed_tokens = [p_stemmer.stem(i) for i in stopped_tokens]\n",
        "        # add tokens to list\n",
        "        texts.append(stemmed_tokens)\n",
        "    return texts"
      ],
      "execution_count": 0,
      "outputs": []
    },
    {
      "cell_type": "code",
      "metadata": {
        "id": "HFuSHmVPYLgt",
        "colab_type": "code",
        "colab": {}
      },
      "source": [
        "def prepare_corpus(doc_clean):\n",
        "    \"\"\"\n",
        "    Input  : clean document\n",
        "    Purpose: create term dictionary of our courpus and Converting list of documents (corpus) into Document Term Matrix\n",
        "    Output : term dictionary and Document Term Matrix\n",
        "    \"\"\"\n",
        "    # Creating the term dictionary of our courpus, where every unique term is assigned an index. dictionary = corpora.Dictionary(doc_clean)\n",
        "    dictionary = corpora.Dictionary(doc_clean)\n",
        "    # Converting list of documents (corpus) into Document Term Matrix using dictionary prepared above.\n",
        "    doc_term_matrix = [dictionary.doc2bow(doc) for doc in doc_clean]\n",
        "    # generate LDA model\n",
        "    return dictionary,doc_term_matrix"
      ],
      "execution_count": 0,
      "outputs": []
    },
    {
      "cell_type": "code",
      "metadata": {
        "id": "Xf7OspsuYV5W",
        "colab_type": "code",
        "colab": {}
      },
      "source": [
        "def create_gensim_lsa_model(doc_clean,number_of_topics,words):\n",
        "    \"\"\"\n",
        "    Input  : clean document, number of topics and number of words associated with each topic\n",
        "    Purpose: create LSA model using gensim\n",
        "    Output : return LSA model\n",
        "    \"\"\"\n",
        "    dictionary,doc_term_matrix=prepare_corpus(doc_clean)\n",
        "    # generate LSA model\n",
        "    lsamodel = LsiModel(doc_term_matrix, num_topics=number_of_topics, id2word = dictionary)  # train model\n",
        "    print(lsamodel.print_topics(num_topics=number_of_topics, num_words=words))\n",
        "    return lsamodel"
      ],
      "execution_count": 0,
      "outputs": []
    },
    {
      "cell_type": "code",
      "metadata": {
        "id": "lgT0JbqwYbe5",
        "colab_type": "code",
        "colab": {}
      },
      "source": [
        "def compute_coherence_values(dictionary, doc_term_matrix, doc_clean, stop, start=2, step=3):\n",
        "    \"\"\"\n",
        "    Input   : dictionary : Gensim dictionary\n",
        "              corpus : Gensim corpus\n",
        "              texts : List of input texts\n",
        "              stop : Max num of topics\n",
        "    purpose : Compute c_v coherence for various number of topics\n",
        "    Output  : model_list : List of LSA topic models\n",
        "              coherence_values : Coherence values corresponding to the LDA model with respective number of topics\n",
        "    \"\"\"\n",
        "    coherence_values = []\n",
        "    model_list = []\n",
        "    for num_topics in range(start, stop, step):\n",
        "        # generate LSA model\n",
        "        model = LsiModel(doc_term_matrix, num_topics=number_of_topics, id2word = dictionary)  # train model\n",
        "        model_list.append(model)\n",
        "        coherencemodel = CoherenceModel(model=model, texts=doc_clean, dictionary=dictionary, coherence='c_v')\n",
        "        coherence_values.append(coherencemodel.get_coherence())\n",
        "    return model_list, coherence_values"
      ],
      "execution_count": 0,
      "outputs": []
    },
    {
      "cell_type": "code",
      "metadata": {
        "id": "ajl1KnnBYh-u",
        "colab_type": "code",
        "colab": {}
      },
      "source": [
        "def plot_graph(doc_clean,start, stop, step):\n",
        "    dictionary,doc_term_matrix=prepare_corpus(doc_clean)\n",
        "    model_list, coherence_values = compute_coherence_values(dictionary, doc_term_matrix,doc_clean,\n",
        "                                                            stop, start, step)\n",
        "    # Show graph\n",
        "    x = range(start, stop, step)\n",
        "    plt.plot(x, coherence_values)\n",
        "    plt.xlabel(\"Number of Topics\")\n",
        "    plt.ylabel(\"Coherence score\")\n",
        "    plt.legend((\"coherence_values\"), loc='best')\n",
        "    plt.show()"
      ],
      "execution_count": 0,
      "outputs": []
    },
    {
      "cell_type": "code",
      "metadata": {
        "id": "OdNENx0FYmt7",
        "colab_type": "code",
        "outputId": "bea486a7-f383-4889-f2d8-fe2fdad9b65a",
        "colab": {
          "base_uri": "https://localhost:8080/",
          "height": 279
        }
      },
      "source": [
        "start,stop,step=2,12,1\n",
        "plot_graph(clean_text,start,stop,step)"
      ],
      "execution_count": 0,
      "outputs": [
        {
          "output_type": "display_data",
          "data": {
            "image/png": "[encoded data removed]",
            "text/plain": [
              "<Figure size 432x288 with 1 Axes>"
            ]
          },
          "metadata": {
            "tags": []
          }
        }
      ]
    },
    {
      "cell_type": "code",
      "metadata": {
        "id": "rtzYeBekYrt2",
        "colab_type": "code",
        "outputId": "2dc885e9-b648-464f-b8c1-8816014e800d",
        "colab": {
          "base_uri": "https://localhost:8080/",
          "height": 52
        }
      },
      "source": [
        "# LSA Model\n",
        "number_of_topics=3\n",
        "words=3\n",
        "document_list,titles=load_data(\"\",\"list_of_sentences\")\n",
        "clean_text=preprocess_data(document_list)\n",
        "model=create_gensim_lsa_model(clean_text,number_of_topics,words)"
      ],
      "execution_count": 0,
      "outputs": [
        {
          "output_type": "stream",
          "text": [
            "Total Number of Documents: 13\n",
            "[(0, '-0.888*\"good\" + -0.325*\"morn\" + -0.325*\"afternoon\"'), (1, '0.339*\"basebal\" + 0.339*\"usa\" + 0.339*\"play\"'), (2, '-0.344*\"today\" + -0.344*\"awesom\" + -0.344*\"weather\"')]\n"
          ],
          "name": "stdout"
        }
      ]
    },
    {
      "cell_type": "code",
      "metadata": {
        "id": "avEAhzlfLER0",
        "colab_type": "code",
        "colab": {}
      },
      "source": [
        ""
      ],
      "execution_count": 0,
      "outputs": []
    }
  ]
}